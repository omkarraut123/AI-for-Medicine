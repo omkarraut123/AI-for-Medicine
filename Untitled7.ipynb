{
  "nbformat": 4,
  "nbformat_minor": 0,
  "metadata": {
    "colab": {
      "name": "Untitled7.ipynb",
      "provenance": [],
      "authorship_tag": "ABX9TyPRJpXNQ9Hfwrzb4d6p9d5p",
      "include_colab_link": true
    },
    "kernelspec": {
      "name": "python3",
      "display_name": "Python 3"
    }
  },
  "cells": [
    {
      "cell_type": "markdown",
      "metadata": {
        "id": "view-in-github",
        "colab_type": "text"
      },
      "source": [
        "<a href=\"https://colab.research.google.com/github/omkarraut123/AI-for-Medicine/blob/master/Untitled7.ipynb\" target=\"_parent\"><img src=\"https://colab.research.google.com/assets/colab-badge.svg\" alt=\"Open In Colab\"/></a>"
      ]
    },
    {
      "cell_type": "code",
      "metadata": {
        "id": "r1-NI0xP6u98",
        "outputId": "fbae4c7d-c3b9-4878-f061-5dc786b6353a",
        "colab": {
          "base_uri": "https://localhost:8080/",
          "height": 50
        }
      },
      "source": [
        "import pandas as pd\n",
        "import numpy as np\n",
        "import matplotlib.pyplot as plt\n",
        "%matplotlib inline\n",
        "import os\n",
        "import seaborn as sns\n",
        "sns.set()\n",
        "\n",
        "df = pd.read_csv('train-small.csv')\n",
        "print(f'There are {df.shape[0]} rows and {df.shape[1]} columns in this data frame')\n",
        "df.shape"
      ],
      "execution_count": 12,
      "outputs": [
        {
          "output_type": "stream",
          "text": [
            "There are 1000 rows and 16 columns in this data frame\n"
          ],
          "name": "stdout"
        },
        {
          "output_type": "execute_result",
          "data": {
            "text/plain": [
              "(1000, 16)"
            ]
          },
          "metadata": {
            "tags": []
          },
          "execution_count": 12
        }
      ]
    },
    {
      "cell_type": "code",
      "metadata": {
        "id": "zjOBXTz57Q0m",
        "outputId": "d00ac202-9161-409e-b3cd-bdd8407b4e83",
        "colab": {
          "base_uri": "https://localhost:8080/",
          "height": 215
        }
      },
      "source": [
        "df.head()"
      ],
      "execution_count": 8,
      "outputs": [
        {
          "output_type": "execute_result",
          "data": {
            "text/html": [
              "<div>\n",
              "<style scoped>\n",
              "    .dataframe tbody tr th:only-of-type {\n",
              "        vertical-align: middle;\n",
              "    }\n",
              "\n",
              "    .dataframe tbody tr th {\n",
              "        vertical-align: top;\n",
              "    }\n",
              "\n",
              "    .dataframe thead th {\n",
              "        text-align: right;\n",
              "    }\n",
              "</style>\n",
              "<table border=\"1\" class=\"dataframe\">\n",
              "  <thead>\n",
              "    <tr style=\"text-align: right;\">\n",
              "      <th></th>\n",
              "      <th>Image</th>\n",
              "      <th>Atelectasis</th>\n",
              "      <th>Cardiomegaly</th>\n",
              "      <th>Consolidation</th>\n",
              "      <th>Edema</th>\n",
              "      <th>Effusion</th>\n",
              "      <th>Emphysema</th>\n",
              "      <th>Fibrosis</th>\n",
              "      <th>Hernia</th>\n",
              "      <th>Infiltration</th>\n",
              "      <th>Mass</th>\n",
              "      <th>Nodule</th>\n",
              "      <th>PatientId</th>\n",
              "      <th>Pleural_Thickening</th>\n",
              "      <th>Pneumonia</th>\n",
              "      <th>Pneumothorax</th>\n",
              "    </tr>\n",
              "  </thead>\n",
              "  <tbody>\n",
              "    <tr>\n",
              "      <th>0</th>\n",
              "      <td>00008270_015.png</td>\n",
              "      <td>0</td>\n",
              "      <td>0</td>\n",
              "      <td>0</td>\n",
              "      <td>0</td>\n",
              "      <td>0</td>\n",
              "      <td>0</td>\n",
              "      <td>0</td>\n",
              "      <td>0</td>\n",
              "      <td>0</td>\n",
              "      <td>0</td>\n",
              "      <td>0</td>\n",
              "      <td>8270</td>\n",
              "      <td>0</td>\n",
              "      <td>0</td>\n",
              "      <td>0</td>\n",
              "    </tr>\n",
              "    <tr>\n",
              "      <th>1</th>\n",
              "      <td>00029855_001.png</td>\n",
              "      <td>1</td>\n",
              "      <td>0</td>\n",
              "      <td>0</td>\n",
              "      <td>0</td>\n",
              "      <td>1</td>\n",
              "      <td>0</td>\n",
              "      <td>0</td>\n",
              "      <td>0</td>\n",
              "      <td>1</td>\n",
              "      <td>0</td>\n",
              "      <td>0</td>\n",
              "      <td>29855</td>\n",
              "      <td>0</td>\n",
              "      <td>0</td>\n",
              "      <td>0</td>\n",
              "    </tr>\n",
              "    <tr>\n",
              "      <th>2</th>\n",
              "      <td>00001297_000.png</td>\n",
              "      <td>0</td>\n",
              "      <td>0</td>\n",
              "      <td>0</td>\n",
              "      <td>0</td>\n",
              "      <td>0</td>\n",
              "      <td>0</td>\n",
              "      <td>0</td>\n",
              "      <td>0</td>\n",
              "      <td>0</td>\n",
              "      <td>0</td>\n",
              "      <td>0</td>\n",
              "      <td>1297</td>\n",
              "      <td>1</td>\n",
              "      <td>0</td>\n",
              "      <td>0</td>\n",
              "    </tr>\n",
              "    <tr>\n",
              "      <th>3</th>\n",
              "      <td>00012359_002.png</td>\n",
              "      <td>0</td>\n",
              "      <td>0</td>\n",
              "      <td>0</td>\n",
              "      <td>0</td>\n",
              "      <td>0</td>\n",
              "      <td>0</td>\n",
              "      <td>0</td>\n",
              "      <td>0</td>\n",
              "      <td>0</td>\n",
              "      <td>0</td>\n",
              "      <td>0</td>\n",
              "      <td>12359</td>\n",
              "      <td>0</td>\n",
              "      <td>0</td>\n",
              "      <td>0</td>\n",
              "    </tr>\n",
              "    <tr>\n",
              "      <th>4</th>\n",
              "      <td>00017951_001.png</td>\n",
              "      <td>0</td>\n",
              "      <td>0</td>\n",
              "      <td>0</td>\n",
              "      <td>0</td>\n",
              "      <td>0</td>\n",
              "      <td>0</td>\n",
              "      <td>0</td>\n",
              "      <td>0</td>\n",
              "      <td>1</td>\n",
              "      <td>0</td>\n",
              "      <td>0</td>\n",
              "      <td>17951</td>\n",
              "      <td>0</td>\n",
              "      <td>0</td>\n",
              "      <td>0</td>\n",
              "    </tr>\n",
              "  </tbody>\n",
              "</table>\n",
              "</div>"
            ],
            "text/plain": [
              "              Image  Atelectasis  ...  Pneumonia  Pneumothorax\n",
              "0  00008270_015.png            0  ...          0             0\n",
              "1  00029855_001.png            1  ...          0             0\n",
              "2  00001297_000.png            0  ...          0             0\n",
              "3  00012359_002.png            0  ...          0             0\n",
              "4  00017951_001.png            0  ...          0             0\n",
              "\n",
              "[5 rows x 16 columns]"
            ]
          },
          "metadata": {
            "tags": []
          },
          "execution_count": 8
        }
      ]
    },
    {
      "cell_type": "markdown",
      "metadata": {
        "id": "oFlQQ-YT9ixo"
      },
      "source": [
        "Have a look at the various columns in this csv file. The file contains the names of chest x-ray images (\"Image\" column) and the columns filled with ones and zeros identify which diagnoses were given based on each x-ray image."
      ]
    },
    {
      "cell_type": "code",
      "metadata": {
        "id": "op2nqCqw7YVN",
        "outputId": "59a5f453-cb1d-49ee-b870-1956890c8f9c",
        "colab": {
          "base_uri": "https://localhost:8080/",
          "height": 302
        }
      },
      "source": [
        "df.info\n",
        "df.isnull().sum()"
      ],
      "execution_count": 14,
      "outputs": [
        {
          "output_type": "execute_result",
          "data": {
            "text/plain": [
              "Image                 0\n",
              "Atelectasis           0\n",
              "Cardiomegaly          0\n",
              "Consolidation         0\n",
              "Edema                 0\n",
              "Effusion              0\n",
              "Emphysema             0\n",
              "Fibrosis              0\n",
              "Hernia                0\n",
              "Infiltration          0\n",
              "Mass                  0\n",
              "Nodule                0\n",
              "PatientId             0\n",
              "Pleural_Thickening    0\n",
              "Pneumonia             0\n",
              "Pneumothorax          0\n",
              "dtype: int64"
            ]
          },
          "metadata": {
            "tags": []
          },
          "execution_count": 14
        }
      ]
    },
    {
      "cell_type": "code",
      "metadata": {
        "id": "KZ1sMXyx9oVj",
        "outputId": "7703aafe-056f-4a80-d33e-d759c98c4d78",
        "colab": {
          "base_uri": "https://localhost:8080/",
          "height": 34
        }
      },
      "source": [
        "df['PatientId'].count()"
      ],
      "execution_count": 16,
      "outputs": [
        {
          "output_type": "execute_result",
          "data": {
            "text/plain": [
              "1000"
            ]
          },
          "metadata": {
            "tags": []
          },
          "execution_count": 16
        }
      ]
    },
    {
      "cell_type": "code",
      "metadata": {
        "id": "KmMX1m6v95OL",
        "outputId": "f4296362-9448-41ee-cc3b-5a55b57dabf8",
        "colab": {
          "base_uri": "https://localhost:8080/",
          "height": 34
        }
      },
      "source": [
        "df['PatientId'].value_counts().shape[0]"
      ],
      "execution_count": 20,
      "outputs": [
        {
          "output_type": "execute_result",
          "data": {
            "text/plain": [
              "928"
            ]
          },
          "metadata": {
            "tags": []
          },
          "execution_count": 20
        }
      ]
    },
    {
      "cell_type": "markdown",
      "metadata": {
        "id": "n-C0AP_q_JLt"
      },
      "source": [
        "Explore data labels\n",
        "Run the next two code cells to create a list of the names of each patient condition or disease."
      ]
    },
    {
      "cell_type": "code",
      "metadata": {
        "id": "XjrUjaVs-Dci"
      },
      "source": [
        "columns=list(df.keys())\n",
        "columns.remove('Image')\n",
        "columns.remove('PatientId')"
      ],
      "execution_count": 24,
      "outputs": []
    },
    {
      "cell_type": "code",
      "metadata": {
        "id": "C2abdID7_Ogb",
        "outputId": "2129008d-78f6-4c08-bdbd-0057fc562d97",
        "colab": {
          "base_uri": "https://localhost:8080/",
          "height": 252
        }
      },
      "source": [
        "columns"
      ],
      "execution_count": 25,
      "outputs": [
        {
          "output_type": "execute_result",
          "data": {
            "text/plain": [
              "['Atelectasis',\n",
              " 'Cardiomegaly',\n",
              " 'Consolidation',\n",
              " 'Edema',\n",
              " 'Effusion',\n",
              " 'Emphysema',\n",
              " 'Fibrosis',\n",
              " 'Hernia',\n",
              " 'Infiltration',\n",
              " 'Mass',\n",
              " 'Nodule',\n",
              " 'Pleural_Thickening',\n",
              " 'Pneumonia',\n",
              " 'Pneumothorax']"
            ]
          },
          "metadata": {
            "tags": []
          },
          "execution_count": 25
        }
      ]
    },
    {
      "cell_type": "markdown",
      "metadata": {
        "id": "8BBBlOQX_22Y"
      },
      "source": [
        "Run the next cell to print out the number of positive labels (1's) for each condition"
      ]
    },
    {
      "cell_type": "code",
      "metadata": {
        "id": "CLMf05CH_pMm",
        "outputId": "6f314176-50dc-4b02-cfb0-ee30e9fe9d1c",
        "colab": {
          "base_uri": "https://localhost:8080/",
          "height": 252
        }
      },
      "source": [
        "for c in columns:\n",
        "  print(f\"The class {c} has {df[c].sum()} samples\")\n",
        "\n"
      ],
      "execution_count": 26,
      "outputs": [
        {
          "output_type": "stream",
          "text": [
            "The class Atelectasis has 106 samples\n",
            "The class Cardiomegaly has 20 samples\n",
            "The class Consolidation has 33 samples\n",
            "The class Edema has 16 samples\n",
            "The class Effusion has 128 samples\n",
            "The class Emphysema has 13 samples\n",
            "The class Fibrosis has 14 samples\n",
            "The class Hernia has 2 samples\n",
            "The class Infiltration has 175 samples\n",
            "The class Mass has 45 samples\n",
            "The class Nodule has 54 samples\n",
            "The class Pleural_Thickening has 21 samples\n",
            "The class Pneumonia has 10 samples\n",
            "The class Pneumothorax has 38 samples\n"
          ],
          "name": "stdout"
        }
      ]
    },
    {
      "cell_type": "markdown",
      "metadata": {
        "id": "ib9ez8E2AhwX"
      },
      "source": [
        "Have a look at the counts for the labels in each class above. Does this look like a balanced dataset?"
      ]
    },
    {
      "cell_type": "markdown",
      "metadata": {
        "id": "VGqe0iqHAqkd"
      },
      "source": [
        "**Data Visualization**\n",
        "\n",
        "```\n",
        "Using the image names listed in the csv file, you can retrieve the image associated with each row of data in your dataframe.\n",
        "Run the cell below to visualize a random selection of images from the dataset.\n",
        "```\n",
        "\n"
      ]
    },
    {
      "cell_type": "code",
      "metadata": {
        "id": "6eScKkD3Ms3-"
      },
      "source": [
        ""
      ],
      "execution_count": null,
      "outputs": []
    },
    {
      "cell_type": "code",
      "metadata": {
        "id": "4_fxdYImAPKn"
      },
      "source": [
        "# Extract numpy values from Image column in data frame\n",
        "images = df['Image'].values\n",
        "# Extract 9 random images from it\n",
        "random_image = [ np.random.choice(images) for i in range(9)]\n",
        "\n",
        "# Location of the image dir\n",
        "img_dir = 'nih/images-small/'\n",
        "\n",
        "print('Display Random Images')\n",
        "# Adjust the size of your images\n",
        "plt.figure(figsize=(20,10))\n",
        "\n",
        "# Iterate and plot random images\n",
        "\n",
        "for i in range(9):\n",
        "  plt.subplot(3,3,i+1)\n",
        "  img = plt.imread(os.path.join(img_dir,random_images[i]))\n",
        "  plt.imshow(img,cmap='gray')\n",
        "  plt.axis('off')\n",
        "\n",
        "# Adjust subplot parameters to give specified padding\n",
        "plt.tight_layout()   "
      ],
      "execution_count": null,
      "outputs": []
    },
    {
      "cell_type": "markdown",
      "metadata": {
        "id": "OCsnDnwjJL0W"
      },
      "source": [
        "**Investigate a single image**\n",
        "\n",
        "```\n",
        "Run the cell below to look at the first image in the dataset and print out some details of the image contents.\n",
        "```"
      ]
    },
    {
      "cell_type": "code",
      "metadata": {
        "id": "oU1xWybhJKVH"
      },
      "source": [
        "sample_img = df.Image[0]\n",
        "raw_image = plt.imread((os.path.join(img_dir, sample_img))\n",
        "plt.imshow(raw_image, cmap='gray')\n",
        "plt.colorbar()\n",
        "plt.title('Raw Chest X Ray Image')\n",
        "print(f\"The dimensions of the image are {raw_image.shape[0]} pixels width and {raw_image.shape[1]} pixels height, one single color channel\")\n",
        "print(f\"The maximum pixel value is {raw_image.max():.4f} and the minimum is {raw_image.min():.4f}\")\n",
        "print(f\"The mean value of the pixels is {raw_image.mean():.4f} and the standard deviation is {raw_image.std():.4f}\")"
      ],
      "execution_count": null,
      "outputs": []
    },
    {
      "cell_type": "markdown",
      "metadata": {
        "id": "i6mebYm8Jxig"
      },
      "source": [
        "**Image Preprocessing in Keras**\n",
        "\n",
        "\n",
        "```\n",
        "Before training, you'll first modify your images to be better suited for training a convolutional neural network. For this task you'll use the Keras ImageDataGenerator function to perform data preprocessing and data augmentation.\n",
        "```\n",
        "\n"
      ]
    },
    {
      "cell_type": "code",
      "metadata": {
        "id": "zstauyfCKRCO"
      },
      "source": [
        "# Import data generator from keras\n",
        "from keras.preprocessing.image import ImageDataGenerator\n"
      ],
      "execution_count": 27,
      "outputs": []
    },
    {
      "cell_type": "code",
      "metadata": {
        "id": "Jpy2IDZXKzQu"
      },
      "source": [
        "# Normalize images\n",
        "image_generator = ImageDataGenerator(samplewise_center=True,\n",
        "                                     samplewise_std_normalization= True\n",
        "                                     )"
      ],
      "execution_count": 29,
      "outputs": []
    },
    {
      "cell_type": "markdown",
      "metadata": {
        "id": "AE4b6QKmLnVO"
      },
      "source": [
        "### Standardization\n",
        "\n",
        "The `image_generator` you created above will act to adjust your image data such that the new mean of the data will be zero, and the standard deviation of the data will be 1.  \n",
        "\n",
        "In other words, the generator will replace each pixel value in the image with a new value calculated by subtracting the mean and dividing by the standard deviation.\n",
        "\n",
        "$$\\frac{x_i - \\mu}{\\sigma}$$\n",
        "\n",
        "Run the next cell to pre-process your data using the `image_generator`. In this step you will also be reducing the image size down to 320x320 pixels.\n"
      ]
    },
    {
      "cell_type": "code",
      "metadata": {
        "id": "B305LU2eLg7O",
        "outputId": "c15de949-126d-44b8-ec78-d71569568e53",
        "colab": {
          "base_uri": "https://localhost:8080/",
          "height": 87
        }
      },
      "source": [
        "# Flow from directory with specified batch size and target image size\n",
        "generator = image_generator.flow_from_dataframe(\n",
        "        dataframe=df,\n",
        "        directory=\"nih/images-small/\",\n",
        "        x_col=\"Image\", # features\n",
        "        y_col= ['Mass'], # labels\n",
        "        class_mode=\"raw\", # 'Mass' column should be in train_df\n",
        "        batch_size= 1, # images per batch\n",
        "        shuffle=False, # shuffle the rows or not\n",
        "        target_size=(320,320) # width and height of output image\n",
        ")"
      ],
      "execution_count": 31,
      "outputs": [
        {
          "output_type": "stream",
          "text": [
            "Found 0 validated image filenames.\n"
          ],
          "name": "stdout"
        },
        {
          "output_type": "stream",
          "text": [
            "/usr/local/lib/python3.6/dist-packages/keras_preprocessing/image/dataframe_iterator.py:282: UserWarning: Found 1000 invalid image filename(s) in x_col=\"Image\". These filename(s) will be ignored.\n",
            "  .format(n_invalid, x_col)\n"
          ],
          "name": "stderr"
        }
      ]
    },
    {
      "cell_type": "code",
      "metadata": {
        "id": "wh5wdWzEMNV4"
      },
      "source": [
        "# Plot a processed image\n",
        "sns.set_style(\"white\")\n",
        "generated_image, label = generator.__getitem__(0)\n",
        "plt.imshow(generated_image[0], cmap='gray')\n",
        "plt.colorbar()\n",
        "plt.title('Raw Chest X Ray Image')\n",
        "print(f\"The dimensions of the image are {generated_image.shape[1]} pixels width and {generated_image.shape[2]} pixels height\")\n",
        "print(f\"The maximum pixel value is {generated_image.max():.4f} and the minimum is {generated_image.min():.4f}\")\n",
        "print(f\"The mean value of the pixels is {generated_image.mean():.4f} and the standard deviation is {generated_image.std():.4f}\")"
      ],
      "execution_count": null,
      "outputs": []
    },
    {
      "cell_type": "code",
      "metadata": {
        "id": "lAyhNPoXMesS"
      },
      "source": [
        "# Include a histogram of the distribution of the pixels\n",
        "sns.set()\n",
        "plt.figure(figsize=(10, 7))\n",
        "\n",
        "# Plot histogram for original iamge\n",
        "sns.distplot(raw_image.ravel(), \n",
        "             label=f'Original Image: mean {np.mean(raw_image):.4f} - Standard Deviation {np.std(raw_image):.4f} \\n '\n",
        "             f'Min pixel value {np.min(raw_image):.4} - Max pixel value {np.max(raw_image):.4}',\n",
        "             color='blue', \n",
        "             kde=False)\n",
        "\n",
        "# Plot histogram for generated image\n",
        "sns.distplot(generated_image[0].ravel(), \n",
        "             label=f'Generated Image: mean {np.mean(generated_image[0]):.4f} - Standard Deviation {np.std(generated_image[0]):.4f} \\n'\n",
        "             f'Min pixel value {np.min(generated_image[0]):.4} - Max pixel value {np.max(generated_image[0]):.4}', \n",
        "             color='red', \n",
        "             kde=False)\n",
        "\n",
        "# Place legends\n",
        "plt.legend()\n",
        "plt.title('Distribution of Pixel Intensities in the Image')\n",
        "plt.xlabel('Pixel Intensity')\n",
        "plt.ylabel('# Pixel')"
      ],
      "execution_count": null,
      "outputs": []
    },
    {
      "cell_type": "markdown",
      "metadata": {
        "id": "1YWXnaC-MeZx"
      },
      "source": [
        ""
      ]
    }
  ]
}